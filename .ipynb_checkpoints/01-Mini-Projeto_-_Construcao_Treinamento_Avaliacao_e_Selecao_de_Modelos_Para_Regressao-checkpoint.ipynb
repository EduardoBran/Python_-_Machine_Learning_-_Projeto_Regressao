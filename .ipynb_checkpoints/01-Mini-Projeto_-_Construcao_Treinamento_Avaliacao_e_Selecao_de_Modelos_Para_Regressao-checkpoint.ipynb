{
 "cells": [
  {
   "cell_type": "markdown",
   "id": "f91c62bf",
   "metadata": {},
   "source": [
    "# <font color='blue'>Data Science Academy</font>\n",
    "# <font color='blue'>Big Data Real-Time Analytics com Python e Spark</font>\n",
    "\n",
    "<br><br>\n",
    "\n",
    "# <font color='black'>Mini-Projeto 2</font>\n",
    "\n",
    "### <font color='black'>Processo de Construção, Treinamento, Avaliação e Seleção de Modelos Para Regressão</font>"
   ]
  },
  {
   "cell_type": "markdown",
   "id": "c2d9c53c",
   "metadata": {},
   "source": [
    "<br>\n",
    "\n",
    "### Etapas:\n",
    "\n",
    "- Construção, Treinamento, Avaliação e Seleção de Modelos para <u>Classificação</u>\n",
    "\n",
    "<br>\n",
    "\n",
    "### Introdução:\n",
    "\n",
    "- Vamos trabalhar agora em nosso segundo Mini-Projeto de Machine Learning, cujo objetivo é trazer para você um passo a passo completo do processo de construção, treinamento, avaliação e seleção de **modelos para regressão**. Todo o processo será demonstrado de uma ponta a outra, desde a definição do problema de negócio, até a interpretação do modelo e entrega do resultado ao tomador de decisão.\n",
    "\n",
    "<br>\n",
    "\n",
    "### Contexto:\n",
    "\n",
    "- Uma **empresa de e-commerce** comercializa produtos através de seu **web site** e de sua **app** para dispositivos móveis. Para efetuar uma compra, um cliente realiza um cadastro no portal (usando web site ou app). Cada vez que o cliente realiza o login, o sistema registra o tempo que fica logado, seja na app ou no web site.\n",
    "- Para cada cliente, a empresa mantém o registro de vendas com o total gasto por mês.\n",
    "- A empresa gostaria de **aumentar as vendas**, mas o orçamento permite investir somente no web site ou na app neste momento. O foco é melhorar a experiência do cliente durante a navegação no sistema, aumentando o tempo logado, aumentando o engajamento e, consequentemente, aumentando as vendas.\n",
    "\n",
    "<br>\n",
    "\n",
    "### Sobre os Dados:\n",
    "\n",
    "<br>\n",
    "\n",
    "<table border=\"2\">\n",
    "  <tr>\n",
    "    <th style=\"text-align: center; font-size: 16px;\">Nome da Coluna</th>\n",
    "    <th style=\"text-align: center; font-size: 16px;\">Tipo de Dado</th>\n",
    "    <th style=\"text-align: center; font-size: 16px;\">Descrição</th>\n",
    "  </tr>\n",
    "  <tr>\n",
    "    <td>tempo_cadastro_cliente</td>\n",
    "    <td>float64</td>\n",
    "    <td>Tempo que o cliente está cadastrado, convertido de meses para anos.</td>\n",
    "  </tr>\n",
    "  <tr>\n",
    "    <td>numero_medio_cliques_por_sessao</td>\n",
    "    <td>float64</td>\n",
    "    <td>Número médio de cliques (ou toques) em cada sessão.</td>\n",
    "  </tr>\n",
    "  <tr>\n",
    "    <td>tempo_total_logado_app</td>\n",
    "    <td>float64</td>\n",
    "    <td>Tempo total logado na app em minutos.</td>\n",
    "  </tr>\n",
    "  <tr>\n",
    "    <td>tempo_total_logado_website</td>\n",
    "    <td>float64</td>\n",
    "    <td>Tempo total logado no web site em minutos.</td>\n",
    "  </tr>\n",
    "  <tr>\n",
    "    <td>valor_total_gasto</td>\n",
    "    <td>float64</td>\n",
    "    <td>Valor total gasto pelo cliente em um mês em R$.</td>\n",
    "  </tr>\n",
    "</table>\n",
    "\n",
    "\n",
    "\n",
    "\n",
    "\n",
    "<br>\n",
    "\n",
    "### Objetivo:\n",
    "\n",
    "- O **objetivo** deste projeto é ajudar a empresa a tomar uma decisão sobre **onde investir (web site ou app)** para melhorar a experiência do cliente, aumentando o tempo logado e, assim, o engajamento e as vendas.\n",
    "- Vamos **construir**, **treinar**, **avaliar** e **selecionar modelos de regressão** para **prever o valor total gasto pelo cliente em um mês**, com base no tempo logado e outras ariáveis. "
   ]
  },
  {
   "cell_type": "markdown",
   "id": "042a0183",
   "metadata": {},
   "source": [
    "<br><br><br>\n",
    "## Importando Pacotes"
   ]
  },
  {
   "cell_type": "code",
   "execution_count": null,
   "id": "d5dc2868",
   "metadata": {},
   "outputs": [],
   "source": []
  },
  {
   "cell_type": "code",
   "execution_count": null,
   "id": "b8c77f38",
   "metadata": {},
   "outputs": [],
   "source": []
  },
  {
   "cell_type": "code",
   "execution_count": null,
   "id": "e48d4886",
   "metadata": {},
   "outputs": [],
   "source": []
  },
  {
   "cell_type": "code",
   "execution_count": null,
   "id": "0b1e4420",
   "metadata": {},
   "outputs": [],
   "source": []
  },
  {
   "cell_type": "code",
   "execution_count": null,
   "id": "44cc7193",
   "metadata": {},
   "outputs": [],
   "source": []
  },
  {
   "cell_type": "code",
   "execution_count": null,
   "id": "eccfbf81",
   "metadata": {},
   "outputs": [],
   "source": []
  },
  {
   "cell_type": "code",
   "execution_count": null,
   "id": "dbaff6a9",
   "metadata": {},
   "outputs": [],
   "source": []
  },
  {
   "cell_type": "code",
   "execution_count": null,
   "id": "5843f121",
   "metadata": {},
   "outputs": [],
   "source": []
  }
 ],
 "metadata": {
  "kernelspec": {
   "display_name": "Python 3 (ipykernel)",
   "language": "python",
   "name": "python3"
  },
  "language_info": {
   "codemirror_mode": {
    "name": "ipython",
    "version": 3
   },
   "file_extension": ".py",
   "mimetype": "text/x-python",
   "name": "python",
   "nbconvert_exporter": "python",
   "pygments_lexer": "ipython3",
   "version": "3.9.7"
  }
 },
 "nbformat": 4,
 "nbformat_minor": 5
}
