{
 "cells": [
  {
   "cell_type": "markdown",
   "id": "cff08ba9",
   "metadata": {},
   "source": [
    "# <font color='blue'>Data Science Academy</font>\n",
    "# <font color='blue'>Big Data Real-Time Analytics com Python e Spark</font>\n",
    "\n",
    "<br><br>\n",
    "\n",
    "# <font color='black'><center>Mini-Projeto 2</center></font>\n",
    "\n",
    "### <font color='black'>Processo de Construção, Treinamento, Avaliação e Seleção de Modelos Para Regressão</font>"
   ]
  },
  {
   "cell_type": "markdown",
   "id": "d8a320b6",
   "metadata": {},
   "source": [
    "<br>\n",
    "\n",
    "### Etapas:\n",
    "\n",
    "- Construção, Treinamento, Avaliação e Seleção de Modelos para <u>Regressão</u>\n",
    "\n",
    "<br>\n",
    "\n",
    "### Introdução:\n",
    "\n",
    "- Vamos trabalhar agora em nosso segundo Mini-Projeto de Machine Learning, cujo objetivo é trazer para você um passo a passo completo do processo de construção, treinamento, avaliação e seleção de **modelos para regressão**. Todo o processo será demonstrado de uma ponta a outra, desde a definição do problema de negócio, até a interpretação do modelo e entrega do resultado ao tomador de decisão.\n",
    "\n",
    "<br>\n",
    "\n",
    "### Contexto:\n",
    "\n",
    "- Uma **empresa de e-commerce** comercializa produtos através de seu **web site** e de sua **app** para dispositivos móveis. Para efetuar uma compra, um cliente realiza um cadastro no portal (usando web site ou app). Cada vez que o cliente realiza o login, o sistema registra o tempo que fica logado, seja na app ou no web site.\n",
    "- Para cada cliente, a empresa mantém o registro de vendas com o total gasto por mês.\n",
    "- A empresa gostaria de **aumentar as vendas**, mas o orçamento permite investir somente no web site ou na app neste momento. O foco é melhorar a experiência do cliente durante a navegação no sistema, aumentando o tempo logado, aumentando o engajamento e, consequentemente, aumentando as vendas.\n",
    "\n",
    "<br>\n",
    "\n",
    "### Sobre os Dados:\n",
    "\n",
    "<br>\n",
    "\n",
    "<table border=\"2\">\n",
    "  <tr>\n",
    "    <th style=\"text-align: center; font-size: 16px;\">Nome da Coluna</th>\n",
    "    <th style=\"text-align: center; font-size: 16px;\">Tipo de Dado</th>\n",
    "    <th style=\"text-align: center; font-size: 16px;\">Descrição</th>\n",
    "  </tr>\n",
    "  <tr>\n",
    "    <td>tempo_cadastro_cliente</td>\n",
    "    <td>float64</td>\n",
    "    <td>Tempo que o cliente está cadastrado, convertido de meses para anos.</td>\n",
    "  </tr>\n",
    "  <tr>\n",
    "    <td>numero_medio_cliques_por_sessao</td>\n",
    "    <td>float64</td>\n",
    "    <td>Número médio de cliques (ou toques) em cada sessão.</td>\n",
    "  </tr>\n",
    "  <tr>\n",
    "    <td>tempo_total_logado_app</td>\n",
    "    <td>float64</td>\n",
    "    <td>Tempo total logado na app em minutos.</td>\n",
    "  </tr>\n",
    "  <tr>\n",
    "    <td>tempo_total_logado_website</td>\n",
    "    <td>float64</td>\n",
    "    <td>Tempo total logado no web site em minutos.</td>\n",
    "  </tr>\n",
    "  <tr>\n",
    "    <td>valor_total_gasto</td>\n",
    "    <td>float64</td>\n",
    "    <td>Valor total gasto pelo cliente em um mês em R$.</td>\n",
    "  </tr>\n",
    "</table>\n",
    "\n",
    "\n",
    "\n",
    "\n",
    "\n",
    "<br>\n",
    "\n",
    "### Objetivo:\n",
    "\n",
    "- O **objetivo** deste projeto é ajudar a empresa a tomar uma decisão sobre **onde investir (web site ou app)** para melhorar a experiência do cliente, aumentando o tempo logado e, assim, o engajamento e as vendas.\n",
    "- Vamos **construir**, **treinar**, **avaliar** e **selecionar modelos de regressão** para **prever o valor total gasto pelo cliente em um mês**, com base no tempo logado e outras ariáveis.\n",
    "\n",
    "<br>\n",
    "\n",
    "### IMPORTANTE:\n",
    "\n",
    "- Analisando nossos dados, definimos a variável **\"valor_total_gasto\"** como nossa **variável alvo**.\n",
    "- Para este projeto, não queremos apenas prever o valor; queremos estudar o **relacionamento entre as variáveis**.\n",
    "- Isso será uma **entrega adicional** do modelo de Machine Learning.\n",
    "\n",
    "<br>\n",
    "\n",
    "- Internamente, os modelos de Machine Learning fazem **relacionamentos entre os dados**. Portanto, é exatamente esse relacionamento que será usado para resolver o problema de negócio. \n",
    "- Vamos **criar um modelo** que será capaz de **realizar previsões**. No entanto, nosso foco não será as previsões, mas sim o **relacionamento que o modelo encontrou durante seu aprendizado**.\n",
    "- Esta é uma **característica/propriedade** dos modelos de Machine Learning que nos permite **resolver** ainda mais problemas de negócio."
   ]
  },
  {
   "cell_type": "markdown",
   "id": "03265afd",
   "metadata": {},
   "source": [
    "<br><br><br>\n",
    "## Importando Pacotes"
   ]
  },
  {
   "cell_type": "code",
   "execution_count": 1,
   "id": "bb1a34a1",
   "metadata": {},
   "outputs": [],
   "source": [
    "### Manipulação de Dados ###\n",
    "\n",
    "# NumPy: Biblioteca para operações matemáticas e manipulação de arrays.\n",
    "import numpy as np\n",
    "# Pandas: Biblioteca para manipulação e análise de dados estruturados.\n",
    "import pandas as pd\n",
    "\n",
    "\n",
    "### Exibição de Gráficos ###\n",
    "\n",
    "# Matplotlib: Biblioteca para criação de gráficos e visualizações.\n",
    "import matplotlib.pyplot as plt\n",
    "# Seaborn: Biblioteca para criação de gráficos estatísticos e visualizações.\n",
    "import seaborn as sns\n",
    "\n",
    "\n",
    "### Machine Learning ###\n",
    "\n",
    "# Scikit-learn: Biblioteca para ML, incluindo ferramentas para pré-processamento, modelagem, e avaliação.\n",
    "import sklearn\n",
    "# Train Test Split: Função para dividir os dados em conjuntos de treino e teste.\n",
    "from sklearn.model_selection import train_test_split\n",
    "# StandardScaler: Ferramenta para padronização de recursos, ajustando a média e a variância.\n",
    "from sklearn.preprocessing import StandardScaler\n",
    "# LinearRegression, Ridge, Lasso: Algoritmos de regressão linear, incluindo regularização L2 (Ridge) e L1 (Lasso).\n",
    "from sklearn.linear_model import LinearRegression, Ridge, Lasso\n",
    "\n",
    "\n",
    "### Avaliação de Modelos ### \n",
    "\n",
    "# Métricas para avaliar o desempenho\n",
    "from sklearn.metrics import mean_absolute_error, mean_squared_error, r2_score, explained_variance_score\n",
    "\n",
    "\n",
    "### Configurações Adicionais ###\n",
    "\n",
    "# Configuração de estilo para visualizações Seaborn.\n",
    "sns.set_style('whitegrid')\n",
    "# Inline: Para exibir gráficos diretamente no Jupyter Notebook.\n",
    "%matplotlib inline\n",
    "# Warnings: Biblioteca para gerenciar mensagens de aviso, aqui usada para ignorar avisos futuros.\n",
    "import warnings\n",
    "warnings.filterwarnings(\"ignore\", category=FutureWarning)"
   ]
  },
  {
   "cell_type": "markdown",
   "id": "d5b25d3d",
   "metadata": {},
   "source": [
    "<br><br>\n",
    "\n",
    "## Carregando o Conjunto de dados"
   ]
  },
  {
   "cell_type": "code",
   "execution_count": 2,
   "id": "7296cf88",
   "metadata": {},
   "outputs": [],
   "source": [
    "# Carrega o dataset\n",
    "dados = pd.read_csv('dados/dataset.csv')"
   ]
  },
  {
   "cell_type": "markdown",
   "id": "68b859a6",
   "metadata": {},
   "source": [
    "#### Info"
   ]
  },
  {
   "cell_type": "code",
   "execution_count": 3,
   "id": "116eb5b5",
   "metadata": {},
   "outputs": [
    {
     "name": "stdout",
     "output_type": "stream",
     "text": [
      "<class 'pandas.core.frame.DataFrame'>\n",
      "RangeIndex: 500 entries, 0 to 499\n",
      "Data columns (total 5 columns):\n",
      " #   Column                           Non-Null Count  Dtype  \n",
      "---  ------                           --------------  -----  \n",
      " 0   tempo_cadastro_cliente           500 non-null    float64\n",
      " 1   numero_medio_cliques_por_sessao  500 non-null    float64\n",
      " 2   tempo_total_logado_app           500 non-null    float64\n",
      " 3   tempo_total_logado_website       500 non-null    float64\n",
      " 4   valor_total_gasto                500 non-null    float64\n",
      "dtypes: float64(5)\n",
      "memory usage: 19.7 KB\n"
     ]
    }
   ],
   "source": [
    "dados.info()"
   ]
  },
  {
   "cell_type": "markdown",
   "id": "874c5640",
   "metadata": {},
   "source": [
    "- Podemos observão que **NÃO HÁ** valores **outliers**.\n",
    "\n",
    "<br>"
   ]
  },
  {
   "cell_type": "code",
   "execution_count": 4,
   "id": "93aa57ad",
   "metadata": {},
   "outputs": [
    {
     "data": {
      "text/html": [
       "<div>\n",
       "<style scoped>\n",
       "    .dataframe tbody tr th:only-of-type {\n",
       "        vertical-align: middle;\n",
       "    }\n",
       "\n",
       "    .dataframe tbody tr th {\n",
       "        vertical-align: top;\n",
       "    }\n",
       "\n",
       "    .dataframe thead th {\n",
       "        text-align: right;\n",
       "    }\n",
       "</style>\n",
       "<table border=\"1\" class=\"dataframe\">\n",
       "  <thead>\n",
       "    <tr style=\"text-align: right;\">\n",
       "      <th></th>\n",
       "      <th>tempo_cadastro_cliente</th>\n",
       "      <th>numero_medio_cliques_por_sessao</th>\n",
       "      <th>tempo_total_logado_app</th>\n",
       "      <th>tempo_total_logado_website</th>\n",
       "      <th>valor_total_gasto</th>\n",
       "    </tr>\n",
       "  </thead>\n",
       "  <tbody>\n",
       "    <tr>\n",
       "      <th>0</th>\n",
       "      <td>3.472021</td>\n",
       "      <td>33.119954</td>\n",
       "      <td>12.953263</td>\n",
       "      <td>37.034280</td>\n",
       "      <td>534.771485</td>\n",
       "    </tr>\n",
       "    <tr>\n",
       "      <th>1</th>\n",
       "      <td>4.198349</td>\n",
       "      <td>35.371876</td>\n",
       "      <td>10.572467</td>\n",
       "      <td>36.862183</td>\n",
       "      <td>537.915753</td>\n",
       "    </tr>\n",
       "    <tr>\n",
       "      <th>2</th>\n",
       "      <td>2.086348</td>\n",
       "      <td>33.976083</td>\n",
       "      <td>11.658037</td>\n",
       "      <td>37.425279</td>\n",
       "      <td>407.876378</td>\n",
       "    </tr>\n",
       "    <tr>\n",
       "      <th>3</th>\n",
       "      <td>3.605934</td>\n",
       "      <td>34.034164</td>\n",
       "      <td>13.592513</td>\n",
       "      <td>36.838657</td>\n",
       "      <td>618.845970</td>\n",
       "    </tr>\n",
       "    <tr>\n",
       "      <th>4</th>\n",
       "      <td>4.034386</td>\n",
       "      <td>32.770492</td>\n",
       "      <td>11.371767</td>\n",
       "      <td>35.261498</td>\n",
       "      <td>502.771075</td>\n",
       "    </tr>\n",
       "  </tbody>\n",
       "</table>\n",
       "</div>"
      ],
      "text/plain": [
       "   tempo_cadastro_cliente  numero_medio_cliques_por_sessao  \\\n",
       "0                3.472021                        33.119954   \n",
       "1                4.198349                        35.371876   \n",
       "2                2.086348                        33.976083   \n",
       "3                3.605934                        34.034164   \n",
       "4                4.034386                        32.770492   \n",
       "\n",
       "   tempo_total_logado_app  tempo_total_logado_website  valor_total_gasto  \n",
       "0               12.953263                   37.034280         534.771485  \n",
       "1               10.572467                   36.862183         537.915753  \n",
       "2               11.658037                   37.425279         407.876378  \n",
       "3               13.592513                   36.838657         618.845970  \n",
       "4               11.371767                   35.261498         502.771075  "
      ]
     },
     "execution_count": 4,
     "metadata": {},
     "output_type": "execute_result"
    }
   ],
   "source": [
    "dados.head()"
   ]
  },
  {
   "cell_type": "markdown",
   "id": "6e14d295",
   "metadata": {},
   "source": [
    "<br>\n",
    "\n",
    "## Análise Exploratória de Dados"
   ]
  },
  {
   "cell_type": "markdown",
   "id": "56865ad6",
   "metadata": {},
   "source": [
    "#### Nome das Colunas"
   ]
  },
  {
   "cell_type": "code",
   "execution_count": 7,
   "id": "2c727052",
   "metadata": {},
   "outputs": [
    {
     "data": {
      "text/plain": [
       "Index(['tempo_cadastro_cliente', 'numero_medio_cliques_por_sessao',\n",
       "       'tempo_total_logado_app', 'tempo_total_logado_website',\n",
       "       'valor_total_gasto'],\n",
       "      dtype='object')"
      ]
     },
     "execution_count": 7,
     "metadata": {},
     "output_type": "execute_result"
    }
   ],
   "source": [
    "dados.columns"
   ]
  },
  {
   "cell_type": "markdown",
   "id": "74488daa",
   "metadata": {},
   "source": [
    "#### Correlação"
   ]
  },
  {
   "cell_type": "code",
   "execution_count": null,
   "id": "7dae98f6",
   "metadata": {},
   "outputs": [],
   "source": [
    "# Correlação (tabela)\n",
    "dados.corr()"
   ]
  },
  {
   "cell_type": "code",
   "execution_count": null,
   "id": "9d7f070c",
   "metadata": {},
   "outputs": [],
   "source": [
    "# Correlação (visual)\n",
    "sns.pairplot(dados)"
   ]
  },
  {
   "cell_type": "markdown",
   "id": "bca67ab2",
   "metadata": {},
   "source": [
    "<br>\n",
    "\n",
    "### Análise 1 - Relação Entre Tempo no Web Site e Valor Gasto"
   ]
  },
  {
   "cell_type": "code",
   "execution_count": null,
   "id": "03d99b06",
   "metadata": {},
   "outputs": [],
   "source": []
  },
  {
   "cell_type": "markdown",
   "id": "4531f028",
   "metadata": {},
   "source": []
  },
  {
   "cell_type": "code",
   "execution_count": null,
   "id": "484c245d",
   "metadata": {},
   "outputs": [],
   "source": []
  },
  {
   "cell_type": "code",
   "execution_count": null,
   "id": "8d38b49c",
   "metadata": {},
   "outputs": [],
   "source": []
  },
  {
   "cell_type": "markdown",
   "id": "25046527",
   "metadata": {},
   "source": [
    "<br>\n",
    "\n",
    "### Análise 2 - Relação Entre Tempo na App e Valor Gasto"
   ]
  },
  {
   "cell_type": "code",
   "execution_count": null,
   "id": "09fb91ee",
   "metadata": {},
   "outputs": [],
   "source": []
  },
  {
   "cell_type": "code",
   "execution_count": null,
   "id": "8be6b475",
   "metadata": {},
   "outputs": [],
   "source": []
  },
  {
   "cell_type": "code",
   "execution_count": null,
   "id": "1cf1a406",
   "metadata": {},
   "outputs": [],
   "source": []
  },
  {
   "cell_type": "markdown",
   "id": "f30bff9c",
   "metadata": {},
   "source": [
    "<br>\n",
    "\n",
    "### Análise 3 - Relação Entre Tempo na App e Tempo de Cadastro"
   ]
  },
  {
   "cell_type": "code",
   "execution_count": null,
   "id": "c0d55185",
   "metadata": {},
   "outputs": [],
   "source": []
  },
  {
   "cell_type": "code",
   "execution_count": null,
   "id": "138c9b2f",
   "metadata": {},
   "outputs": [],
   "source": []
  },
  {
   "cell_type": "code",
   "execution_count": null,
   "id": "852d7a36",
   "metadata": {},
   "outputs": [],
   "source": []
  },
  {
   "cell_type": "markdown",
   "id": "d436fbb0",
   "metadata": {},
   "source": [
    "<br>\n",
    "\n",
    "### Análise 4 - Relação Entre Tempo de Cadastro e Valor Gasto"
   ]
  },
  {
   "cell_type": "code",
   "execution_count": null,
   "id": "6581b43d",
   "metadata": {},
   "outputs": [],
   "source": []
  },
  {
   "cell_type": "code",
   "execution_count": null,
   "id": "6c1fe3ff",
   "metadata": {},
   "outputs": [],
   "source": []
  },
  {
   "cell_type": "code",
   "execution_count": null,
   "id": "eb777f50",
   "metadata": {},
   "outputs": [],
   "source": []
  },
  {
   "cell_type": "markdown",
   "id": "ef3d41bb",
   "metadata": {},
   "source": [
    "<br>\n",
    "\n",
    "### Análise 5 - Relação Entre Tempo Logado na App e Tempo Logado no Web Site"
   ]
  },
  {
   "cell_type": "code",
   "execution_count": null,
   "id": "21f6ed25",
   "metadata": {},
   "outputs": [],
   "source": []
  },
  {
   "cell_type": "code",
   "execution_count": null,
   "id": "29b19fc5",
   "metadata": {},
   "outputs": [],
   "source": []
  },
  {
   "cell_type": "code",
   "execution_count": null,
   "id": "d895fd08",
   "metadata": {},
   "outputs": [],
   "source": []
  },
  {
   "cell_type": "markdown",
   "id": "0c9aeeb1",
   "metadata": {},
   "source": [
    "<br><br>\n",
    "\n",
    "# Pré-Processamento de Dados Para Construção de Modelos de Machine Learning"
   ]
  },
  {
   "cell_type": "code",
   "execution_count": null,
   "id": "8b44adf2",
   "metadata": {},
   "outputs": [],
   "source": []
  },
  {
   "cell_type": "code",
   "execution_count": null,
   "id": "cce99845",
   "metadata": {},
   "outputs": [],
   "source": []
  },
  {
   "cell_type": "code",
   "execution_count": null,
   "id": "d796de54",
   "metadata": {},
   "outputs": [],
   "source": []
  },
  {
   "cell_type": "code",
   "execution_count": null,
   "id": "42fdfb46",
   "metadata": {},
   "outputs": [],
   "source": []
  }
 ],
 "metadata": {
  "kernelspec": {
   "display_name": "Python 3 (ipykernel)",
   "language": "python",
   "name": "python3"
  },
  "language_info": {
   "codemirror_mode": {
    "name": "ipython",
    "version": 3
   },
   "file_extension": ".py",
   "mimetype": "text/x-python",
   "name": "python",
   "nbconvert_exporter": "python",
   "pygments_lexer": "ipython3",
   "version": "3.9.7"
  }
 },
 "nbformat": 4,
 "nbformat_minor": 5
}
